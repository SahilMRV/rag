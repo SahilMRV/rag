{
 "cells": [
  {
   "cell_type": "code",
   "execution_count": 1,
   "metadata": {},
   "outputs": [
    {
     "name": "stdout",
     "output_type": "stream",
     "text": [
      "Note: you may need to restart the kernel to use updated packages.\n"
     ]
    },
    {
     "name": "stderr",
     "output_type": "stream",
     "text": [
      "WARNING: You are using pip version 20.2.3; however, version 24.2 is available.\n",
      "You should consider upgrading via the 'd:\\rag\\venv\\Scripts\\python.exe -m pip install --upgrade pip' command.\n"
     ]
    }
   ],
   "source": [
    "%pip install -q langchain langchain-community"
   ]
  },
  {
   "cell_type": "code",
   "execution_count": 1,
   "metadata": {},
   "outputs": [],
   "source": [
    "import os\n",
    "from langchain.document_loaders import PyMuPDFLoader\n",
    "# from langchain.vectorstores import SimpleVectorStore\n",
    "from langchain.embeddings import OpenAIEmbeddings"
   ]
  },
  {
   "cell_type": "code",
   "execution_count": 2,
   "metadata": {},
   "outputs": [],
   "source": [
    "def load_pdfs_from_folder(folder_path):\n",
    "    pdf_files = [f for f in os.listdir(folder_path) if f.endswith('.pdf')]\n",
    "    documents = []\n",
    "    \n",
    "    for pdf_file in pdf_files:\n",
    "        pdf_path = os.path.join(folder_path, pdf_file)\n",
    "        loader = PyMuPDFLoader(pdf_path)\n",
    "        docs = loader.load()\n",
    "        documents.extend(docs)\n",
    "    \n",
    "    return documents"
   ]
  },
  {
   "cell_type": "code",
   "execution_count": 3,
   "metadata": {},
   "outputs": [],
   "source": [
    "folder_path = r\"vibration\"\n",
    "docs = load_pdfs_from_folder(folder_path)\n"
   ]
  },
  {
   "cell_type": "code",
   "execution_count": 5,
   "metadata": {},
   "outputs": [],
   "source": [
    "from langchain.text_splitter import RecursiveCharacterTextSplitter\n",
    "\n",
    "splitter = RecursiveCharacterTextSplitter(chunk_size=512, chunk_overlap=30)\n",
    "folder_path = r\"vibration\"\n",
    "docs = load_pdfs_from_folder(folder_path)\n",
    "\n",
    "chunked_docs = splitter.split_documents(docs)"
   ]
  },
  {
   "cell_type": "code",
   "execution_count": 6,
   "metadata": {},
   "outputs": [
    {
     "data": {
      "text/plain": [
       "130"
      ]
     },
     "execution_count": 6,
     "metadata": {},
     "output_type": "execute_result"
    }
   ],
   "source": [
    "len(chunked_docs)"
   ]
  },
  {
   "cell_type": "code",
   "execution_count": 7,
   "metadata": {},
   "outputs": [
    {
     "name": "stderr",
     "output_type": "stream",
     "text": [
      "d:\\rag\\venv\\lib\\site-packages\\langchain_core\\_api\\deprecation.py:139: LangChainDeprecationWarning: The class `HuggingFaceEmbeddings` was deprecated in LangChain 0.2.2 and will be removed in 0.3.0. An updated version of the class exists in the langchain-huggingface package and should be used instead. To use it run `pip install -U langchain-huggingface` and import as `from langchain_huggingface import HuggingFaceEmbeddings`.\n",
      "  warn_deprecated(\n",
      "d:\\rag\\venv\\lib\\site-packages\\sentence_transformers\\cross_encoder\\CrossEncoder.py:11: TqdmWarning: IProgress not found. Please update jupyter and ipywidgets. See https://ipywidgets.readthedocs.io/en/stable/user_install.html\n",
      "  from tqdm.autonotebook import tqdm, trange\n",
      "d:\\rag\\venv\\lib\\site-packages\\transformers\\models\\bert\\modeling_bert.py:439: UserWarning: 1Torch was not compiled with flash attention. (Triggered internally at C:\\actions-runner\\_work\\pytorch\\pytorch\\builder\\windows\\pytorch\\aten\\src\\ATen\\native\\transformers\\cuda\\sdp_utils.cpp:555.)\n",
      "  attn_output = torch.nn.functional.scaled_dot_product_attention(\n"
     ]
    }
   ],
   "source": [
    "from langchain.vectorstores import FAISS\n",
    "from langchain.embeddings import HuggingFaceEmbeddings\n",
    " \n",
    "\n",
    "db = FAISS.from_documents(chunked_docs, HuggingFaceEmbeddings(model_name=\"BAAI/bge-base-en-v1.5\"))"
   ]
  },
  {
   "cell_type": "code",
   "execution_count": 7,
   "metadata": {},
   "outputs": [
    {
     "name": "stdout",
     "output_type": "stream",
     "text": [
      "FAISS index saved to faiss_index.index\n"
     ]
    }
   ],
   "source": [
    "import faiss\n",
    "\n",
    "# Retrieve the underlying FAISS index\n",
    "faiss_index = db.index\n",
    "\n",
    "# Save the FAISS index to a file\n",
    "faiss.write_index(faiss_index, \"faiss_index.index\")\n",
    "\n",
    "print(\"FAISS index saved to faiss_index.index\")"
   ]
  },
  {
   "cell_type": "code",
   "execution_count": 8,
   "metadata": {},
   "outputs": [
    {
     "ename": "NameError",
     "evalue": "name 'chunked_docs' is not defined",
     "output_type": "error",
     "traceback": [
      "\u001b[1;31m---------------------------------------------------------------------------\u001b[0m",
      "\u001b[1;31mNameError\u001b[0m                                 Traceback (most recent call last)",
      "Cell \u001b[1;32mIn[8], line 4\u001b[0m\n\u001b[0;32m      1\u001b[0m \u001b[38;5;28;01mimport\u001b[39;00m \u001b[38;5;21;01mpickle\u001b[39;00m\n\u001b[0;32m      3\u001b[0m \u001b[38;5;28;01mwith\u001b[39;00m \u001b[38;5;28mopen\u001b[39m(\u001b[38;5;124m\"\u001b[39m\u001b[38;5;124mchunked_docs.pkl\u001b[39m\u001b[38;5;124m\"\u001b[39m, \u001b[38;5;124m\"\u001b[39m\u001b[38;5;124mwb\u001b[39m\u001b[38;5;124m\"\u001b[39m) \u001b[38;5;28;01mas\u001b[39;00m f:\n\u001b[1;32m----> 4\u001b[0m     pickle\u001b[38;5;241m.\u001b[39mdump(\u001b[43mchunked_docs\u001b[49m, f)\n",
      "\u001b[1;31mNameError\u001b[0m: name 'chunked_docs' is not defined"
     ]
    }
   ],
   "source": [
    "import pickle\n",
    "\n",
    "with open(\"chunked_docs.pkl\", \"wb\") as f:\n",
    "    pickle.dump(chunked_docs, f)"
   ]
  },
  {
   "cell_type": "code",
   "execution_count": 10,
   "metadata": {},
   "outputs": [
    {
     "ename": "EOFError",
     "evalue": "Ran out of input",
     "output_type": "error",
     "traceback": [
      "\u001b[1;31m---------------------------------------------------------------------------\u001b[0m",
      "\u001b[1;31mEOFError\u001b[0m                                  Traceback (most recent call last)",
      "Cell \u001b[1;32mIn[10], line 12\u001b[0m\n\u001b[0;32m      9\u001b[0m \u001b[38;5;66;03m# Assuming you need to reconstruct the FAISS vector store\u001b[39;00m\n\u001b[0;32m     10\u001b[0m \u001b[38;5;66;03m# You need to load the chunked_docs separately\u001b[39;00m\n\u001b[0;32m     11\u001b[0m \u001b[38;5;28;01mwith\u001b[39;00m \u001b[38;5;28mopen\u001b[39m(\u001b[38;5;124m\"\u001b[39m\u001b[38;5;124mchunked_docs.pkl\u001b[39m\u001b[38;5;124m\"\u001b[39m, \u001b[38;5;124m\"\u001b[39m\u001b[38;5;124mrb\u001b[39m\u001b[38;5;124m\"\u001b[39m) \u001b[38;5;28;01mas\u001b[39;00m f:\n\u001b[1;32m---> 12\u001b[0m     chunked_docs \u001b[38;5;241m=\u001b[39m \u001b[43mpickle\u001b[49m\u001b[38;5;241;43m.\u001b[39;49m\u001b[43mload\u001b[49m\u001b[43m(\u001b[49m\u001b[43mf\u001b[49m\u001b[43m)\u001b[49m\n\u001b[0;32m     14\u001b[0m \u001b[38;5;66;03m# Create the FAISS vector store with the loaded index and documents\u001b[39;00m\n\u001b[0;32m     15\u001b[0m db_loaded \u001b[38;5;241m=\u001b[39m FAISS(index\u001b[38;5;241m=\u001b[39mfaiss_index, embeddings\u001b[38;5;241m=\u001b[39mHuggingFaceEmbeddings(model_name\u001b[38;5;241m=\u001b[39m\u001b[38;5;124m\"\u001b[39m\u001b[38;5;124mBAAI/bge-base-en-v1.5\u001b[39m\u001b[38;5;124m\"\u001b[39m))\n",
      "\u001b[1;31mEOFError\u001b[0m: Ran out of input"
     ]
    }
   ],
   "source": [
    "import faiss\n",
    "import pickle\n",
    "from langchain.vectorstores import FAISS\n",
    "from langchain.embeddings import HuggingFaceEmbeddings\n",
    "\n",
    "# Load the FAISS index from the file\n",
    "faiss_index = faiss.read_index(\"faiss_index.index\")\n",
    "\n",
    "# Assuming you need to reconstruct the FAISS vector store\n",
    "# You need to load the chunked_docs separately\n",
    "with open(\"chunked_docs.pkl\", \"rb\") as f:\n",
    "    chunked_docs = pickle.load(f)\n",
    "\n",
    "# Create the FAISS vector store with the loaded index and documents\n",
    "db_loaded = FAISS(index=faiss_index, embeddings=HuggingFaceEmbeddings(model_name=\"BAAI/bge-base-en-v1.5\"))\n",
    "\n",
    "print(\"FAISS index and documents loaded successfully.\")\n"
   ]
  },
  {
   "cell_type": "code",
   "execution_count": 27,
   "metadata": {},
   "outputs": [],
   "source": [
    "def retrieve_from_vector_store(vector_store, query, k=5):\n",
    "    # Perform the retrieval operation\n",
    "    results = vector_store.similarity_search(query, k=k)\n",
    "    return results"
   ]
  },
  {
   "cell_type": "code",
   "execution_count": 8,
   "metadata": {},
   "outputs": [
    {
     "name": "stderr",
     "output_type": "stream",
     "text": [
      "Loading checkpoint shards: 100%|██████████| 8/8 [00:31<00:00,  3.92s/it]\n"
     ]
    }
   ],
   "source": [
    "from transformers import AutoTokenizer, AutoModelForCausalLM\n",
    "import os\n",
    "# os.environ['CURL_CA_BUNDLE'] = r\"C:\\Users\\25025131\\Cisco_Umbrella_Root_CA.cer\"\n",
    "os.environ['CURL_CA_BUNDLE'] = ''\n",
    "os.environ['REQUESTS_CA_BUNDLE'] = ''\n",
    "\n",
    "model_name = \"HuggingFaceH4/zephyr-7b-beta\"\n",
    "\n",
    "# bnb_config = BitsAndBytesConfig(\n",
    "#     load_in_4bit=True, bnb_4bit_use_double_quant=True, bnb_4bit_quant_type=\"nf4\", bnb_4bit_compute_dtype=torch.bfloat16\n",
    "# )\n",
    "\n",
    "model = AutoModelForCausalLM.from_pretrained(model_name)\n",
    "tokenizer = AutoTokenizer.from_pretrained(model_name)"
   ]
  },
  {
   "cell_type": "code",
   "execution_count": 22,
   "metadata": {},
   "outputs": [
    {
     "ename": "ImportError",
     "evalue": "Using `bitsandbytes` 4-bit quantization requires Accelerate: `pip install accelerate`",
     "output_type": "error",
     "traceback": [
      "\u001b[1;31m---------------------------------------------------------------------------\u001b[0m",
      "\u001b[1;31mImportError\u001b[0m                               Traceback (most recent call last)",
      "Cell \u001b[1;32mIn[22], line 10\u001b[0m\n\u001b[0;32m      4\u001b[0m model_name \u001b[38;5;241m=\u001b[39m \u001b[38;5;124m\"\u001b[39m\u001b[38;5;124mHuggingFaceH4/zephyr-7b-beta\u001b[39m\u001b[38;5;124m\"\u001b[39m\n\u001b[0;32m      6\u001b[0m bnb_config \u001b[38;5;241m=\u001b[39m BitsAndBytesConfig(\n\u001b[0;32m      7\u001b[0m     load_in_4bit\u001b[38;5;241m=\u001b[39m\u001b[38;5;28;01mTrue\u001b[39;00m, bnb_4bit_use_double_quant\u001b[38;5;241m=\u001b[39m\u001b[38;5;28;01mTrue\u001b[39;00m, bnb_4bit_quant_type\u001b[38;5;241m=\u001b[39m\u001b[38;5;124m\"\u001b[39m\u001b[38;5;124mnf4\u001b[39m\u001b[38;5;124m\"\u001b[39m, bnb_4bit_compute_dtype\u001b[38;5;241m=\u001b[39mtorch\u001b[38;5;241m.\u001b[39mbfloat16\n\u001b[0;32m      8\u001b[0m )\n\u001b[1;32m---> 10\u001b[0m model \u001b[38;5;241m=\u001b[39m \u001b[43mAutoModelForCausalLM\u001b[49m\u001b[38;5;241;43m.\u001b[39;49m\u001b[43mfrom_pretrained\u001b[49m\u001b[43m(\u001b[49m\u001b[43mmodel_name\u001b[49m\u001b[43m,\u001b[49m\u001b[43m \u001b[49m\u001b[43mquantization_config\u001b[49m\u001b[38;5;241;43m=\u001b[39;49m\u001b[43mbnb_config\u001b[49m\u001b[43m)\u001b[49m\n\u001b[0;32m     11\u001b[0m tokenizer \u001b[38;5;241m=\u001b[39m AutoTokenizer\u001b[38;5;241m.\u001b[39mfrom_pretrained(model_name)\n",
      "File \u001b[1;32md:\\rag\\venv\\lib\\site-packages\\transformers\\models\\auto\\auto_factory.py:564\u001b[0m, in \u001b[0;36m_BaseAutoModelClass.from_pretrained\u001b[1;34m(cls, pretrained_model_name_or_path, *model_args, **kwargs)\u001b[0m\n\u001b[0;32m    562\u001b[0m \u001b[38;5;28;01melif\u001b[39;00m \u001b[38;5;28mtype\u001b[39m(config) \u001b[38;5;129;01min\u001b[39;00m \u001b[38;5;28mcls\u001b[39m\u001b[38;5;241m.\u001b[39m_model_mapping\u001b[38;5;241m.\u001b[39mkeys():\n\u001b[0;32m    563\u001b[0m     model_class \u001b[38;5;241m=\u001b[39m _get_model_class(config, \u001b[38;5;28mcls\u001b[39m\u001b[38;5;241m.\u001b[39m_model_mapping)\n\u001b[1;32m--> 564\u001b[0m     \u001b[38;5;28;01mreturn\u001b[39;00m model_class\u001b[38;5;241m.\u001b[39mfrom_pretrained(\n\u001b[0;32m    565\u001b[0m         pretrained_model_name_or_path, \u001b[38;5;241m*\u001b[39mmodel_args, config\u001b[38;5;241m=\u001b[39mconfig, \u001b[38;5;241m*\u001b[39m\u001b[38;5;241m*\u001b[39mhub_kwargs, \u001b[38;5;241m*\u001b[39m\u001b[38;5;241m*\u001b[39mkwargs\n\u001b[0;32m    566\u001b[0m     )\n\u001b[0;32m    567\u001b[0m \u001b[38;5;28;01mraise\u001b[39;00m \u001b[38;5;167;01mValueError\u001b[39;00m(\n\u001b[0;32m    568\u001b[0m     \u001b[38;5;124mf\u001b[39m\u001b[38;5;124m\"\u001b[39m\u001b[38;5;124mUnrecognized configuration class \u001b[39m\u001b[38;5;132;01m{\u001b[39;00mconfig\u001b[38;5;241m.\u001b[39m\u001b[38;5;18m__class__\u001b[39m\u001b[38;5;132;01m}\u001b[39;00m\u001b[38;5;124m for this kind of AutoModel: \u001b[39m\u001b[38;5;132;01m{\u001b[39;00m\u001b[38;5;28mcls\u001b[39m\u001b[38;5;241m.\u001b[39m\u001b[38;5;18m__name__\u001b[39m\u001b[38;5;132;01m}\u001b[39;00m\u001b[38;5;124m.\u001b[39m\u001b[38;5;130;01m\\n\u001b[39;00m\u001b[38;5;124m\"\u001b[39m\n\u001b[0;32m    569\u001b[0m     \u001b[38;5;124mf\u001b[39m\u001b[38;5;124m\"\u001b[39m\u001b[38;5;124mModel type should be one of \u001b[39m\u001b[38;5;132;01m{\u001b[39;00m\u001b[38;5;124m'\u001b[39m\u001b[38;5;124m, \u001b[39m\u001b[38;5;124m'\u001b[39m\u001b[38;5;241m.\u001b[39mjoin(c\u001b[38;5;241m.\u001b[39m\u001b[38;5;18m__name__\u001b[39m\u001b[38;5;250m \u001b[39m\u001b[38;5;28;01mfor\u001b[39;00m\u001b[38;5;250m \u001b[39mc\u001b[38;5;250m \u001b[39m\u001b[38;5;129;01min\u001b[39;00m\u001b[38;5;250m \u001b[39m\u001b[38;5;28mcls\u001b[39m\u001b[38;5;241m.\u001b[39m_model_mapping\u001b[38;5;241m.\u001b[39mkeys())\u001b[38;5;132;01m}\u001b[39;00m\u001b[38;5;124m.\u001b[39m\u001b[38;5;124m\"\u001b[39m\n\u001b[0;32m    570\u001b[0m )\n",
      "File \u001b[1;32md:\\rag\\venv\\lib\\site-packages\\transformers\\modeling_utils.py:3364\u001b[0m, in \u001b[0;36mPreTrainedModel.from_pretrained\u001b[1;34m(cls, pretrained_model_name_or_path, config, cache_dir, ignore_mismatched_sizes, force_download, local_files_only, token, revision, use_safetensors, *model_args, **kwargs)\u001b[0m\n\u001b[0;32m   3361\u001b[0m     hf_quantizer \u001b[38;5;241m=\u001b[39m \u001b[38;5;28;01mNone\u001b[39;00m\n\u001b[0;32m   3363\u001b[0m \u001b[38;5;28;01mif\u001b[39;00m hf_quantizer \u001b[38;5;129;01mis\u001b[39;00m \u001b[38;5;129;01mnot\u001b[39;00m \u001b[38;5;28;01mNone\u001b[39;00m:\n\u001b[1;32m-> 3364\u001b[0m     \u001b[43mhf_quantizer\u001b[49m\u001b[38;5;241;43m.\u001b[39;49m\u001b[43mvalidate_environment\u001b[49m\u001b[43m(\u001b[49m\n\u001b[0;32m   3365\u001b[0m \u001b[43m        \u001b[49m\u001b[43mtorch_dtype\u001b[49m\u001b[38;5;241;43m=\u001b[39;49m\u001b[43mtorch_dtype\u001b[49m\u001b[43m,\u001b[49m\u001b[43m \u001b[49m\u001b[43mfrom_tf\u001b[49m\u001b[38;5;241;43m=\u001b[39;49m\u001b[43mfrom_tf\u001b[49m\u001b[43m,\u001b[49m\u001b[43m \u001b[49m\u001b[43mfrom_flax\u001b[49m\u001b[38;5;241;43m=\u001b[39;49m\u001b[43mfrom_flax\u001b[49m\u001b[43m,\u001b[49m\u001b[43m \u001b[49m\u001b[43mdevice_map\u001b[49m\u001b[38;5;241;43m=\u001b[39;49m\u001b[43mdevice_map\u001b[49m\n\u001b[0;32m   3366\u001b[0m \u001b[43m    \u001b[49m\u001b[43m)\u001b[49m\n\u001b[0;32m   3367\u001b[0m     torch_dtype \u001b[38;5;241m=\u001b[39m hf_quantizer\u001b[38;5;241m.\u001b[39mupdate_torch_dtype(torch_dtype)\n\u001b[0;32m   3368\u001b[0m     device_map \u001b[38;5;241m=\u001b[39m hf_quantizer\u001b[38;5;241m.\u001b[39mupdate_device_map(device_map)\n",
      "File \u001b[1;32md:\\rag\\venv\\lib\\site-packages\\transformers\\quantizers\\quantizer_bnb_4bit.py:64\u001b[0m, in \u001b[0;36mBnb4BitHfQuantizer.validate_environment\u001b[1;34m(self, *args, **kwargs)\u001b[0m\n\u001b[0;32m     62\u001b[0m     \u001b[38;5;28;01mraise\u001b[39;00m \u001b[38;5;167;01mRuntimeError\u001b[39;00m(\u001b[38;5;124m\"\u001b[39m\u001b[38;5;124mNo GPU found. A GPU is needed for quantization.\u001b[39m\u001b[38;5;124m\"\u001b[39m)\n\u001b[0;32m     63\u001b[0m \u001b[38;5;28;01mif\u001b[39;00m \u001b[38;5;129;01mnot\u001b[39;00m is_accelerate_available():\n\u001b[1;32m---> 64\u001b[0m     \u001b[38;5;28;01mraise\u001b[39;00m \u001b[38;5;167;01mImportError\u001b[39;00m(\u001b[38;5;124m\"\u001b[39m\u001b[38;5;124mUsing `bitsandbytes` 4-bit quantization requires Accelerate: `pip install accelerate`\u001b[39m\u001b[38;5;124m\"\u001b[39m)\n\u001b[0;32m     65\u001b[0m \u001b[38;5;28;01mif\u001b[39;00m \u001b[38;5;129;01mnot\u001b[39;00m is_bitsandbytes_available():\n\u001b[0;32m     66\u001b[0m     \u001b[38;5;28;01mraise\u001b[39;00m \u001b[38;5;167;01mImportError\u001b[39;00m(\n\u001b[0;32m     67\u001b[0m         \u001b[38;5;124m\"\u001b[39m\u001b[38;5;124mUsing `bitsandbytes` 4-bit quantization requires the latest version of bitsandbytes: `pip install -U bitsandbytes`\u001b[39m\u001b[38;5;124m\"\u001b[39m\n\u001b[0;32m     68\u001b[0m     )\n",
      "\u001b[1;31mImportError\u001b[0m: Using `bitsandbytes` 4-bit quantization requires Accelerate: `pip install accelerate`"
     ]
    }
   ],
   "source": [
    "import torch\n",
    "from transformers import AutoTokenizer, AutoModelForCausalLM, BitsAndBytesConfig\n",
    "\n",
    "model_name = \"HuggingFaceH4/zephyr-7b-beta\"\n",
    "\n",
    "bnb_config = BitsAndBytesConfig(\n",
    "    load_in_4bit=True, bnb_4bit_use_double_quant=True, bnb_4bit_quant_type=\"nf4\", bnb_4bit_compute_dtype=torch.bfloat16\n",
    ")\n",
    "\n",
    "model = AutoModelForCausalLM.from_pretrained(model_name, quantization_config=bnb_config)\n",
    "tokenizer = AutoTokenizer.from_pretrained(model_name)"
   ]
  },
  {
   "cell_type": "code",
   "execution_count": 10,
   "metadata": {},
   "outputs": [
    {
     "name": "stdout",
     "output_type": "stream",
     "text": [
      "Model saved to ./saved_model\n",
      "Tokenizer saved to ./saved_tokenizer\n"
     ]
    }
   ],
   "source": [
    "# Specify directories to save the model and tokenizer\n",
    "model_save_path = \"./saved_model\"\n",
    "tokenizer_save_path = \"./saved_tokenizer\"\n",
    "\n",
    "# Save the model and tokenizer\n",
    "model.save_pretrained(model_save_path)\n",
    "tokenizer.save_pretrained(tokenizer_save_path)\n",
    "\n",
    "print(f\"Model saved to {model_save_path}\")\n",
    "print(f\"Tokenizer saved to {tokenizer_save_path}\")"
   ]
  },
  {
   "cell_type": "code",
   "execution_count": 11,
   "metadata": {},
   "outputs": [
    {
     "name": "stderr",
     "output_type": "stream",
     "text": [
      "Loading checkpoint shards: 100%|██████████| 6/6 [00:07<00:00,  1.23s/it]\n"
     ]
    }
   ],
   "source": [
    "from transformers import AutoTokenizer, AutoModelForCausalLM\n",
    "\n",
    "model_name = \"HuggingFaceH4/zephyr-7b-beta\"\n",
    "\n",
    "# Paths where the model and tokenizer were saved\n",
    "model_save_path = \"./saved_model\"\n",
    "tokenizer_save_path = \"./saved_tokenizer\"\n",
    "\n",
    "# Load the model and tokenizer from the saved paths\n",
    "modelsave = AutoModelForCausalLM.from_pretrained(model_save_path)\n",
    "tokenizersave = AutoTokenizer.from_pretrained(tokenizer_save_path)"
   ]
  },
  {
   "cell_type": "code",
   "execution_count": 9,
   "metadata": {},
   "outputs": [
    {
     "name": "stderr",
     "output_type": "stream",
     "text": [
      "d:\\rag\\venv\\lib\\site-packages\\langchain_core\\_api\\deprecation.py:139: LangChainDeprecationWarning: The class `HuggingFacePipeline` was deprecated in LangChain 0.0.37 and will be removed in 0.3. An updated version of the class exists in the langchain-huggingface package and should be used instead. To use it run `pip install -U langchain-huggingface` and import as `from langchain_huggingface import HuggingFacePipeline`.\n",
      "  warn_deprecated(\n"
     ]
    }
   ],
   "source": [
    "from langchain.llms import HuggingFacePipeline\n",
    "from langchain.prompts import PromptTemplate\n",
    "from transformers import pipeline\n",
    "from langchain_core.output_parsers import StrOutputParser\n",
    "\n",
    "text_generation_pipeline = pipeline(\n",
    "    model=model,\n",
    "    tokenizer=tokenizer,\n",
    "    task=\"text-generation\",\n",
    "    temperature=0.2,\n",
    "    do_sample=True,\n",
    "    repetition_penalty=1.1,\n",
    "    return_full_text=True,\n",
    "    max_new_tokens=400,\n",
    "    device='cuda'\n",
    ")\n",
    "\n",
    "llm = HuggingFacePipeline(pipeline=text_generation_pipeline)\n",
    "\n",
    "prompt_template = \"\"\"\n",
    "<|system|>\n",
    "Answer the question based on your knowledge. Use the following context to help:\n",
    "\n",
    "{context}\n",
    "\n",
    "</s>\n",
    "<|user|>\n",
    "{question}\n",
    "</s>\n",
    "<|assistant|>\n",
    "\n",
    " \"\"\"\n",
    "\n",
    "prompt = PromptTemplate(\n",
    "    input_variables=[\"context\", \"question\"],\n",
    "    template=prompt_template,\n",
    ")\n",
    "\n",
    "llm_chain = prompt | llm | StrOutputParser()"
   ]
  },
  {
   "cell_type": "code",
   "execution_count": 11,
   "metadata": {},
   "outputs": [],
   "source": [
    "from langchain_core.runnables import RunnablePassthrough\n",
    "\n",
    "retriever = db.as_retriever()\n",
    "\n",
    "rag_chain = {\"context\": retriever, \"question\": RunnablePassthrough()} | llm_chain"
   ]
  },
  {
   "cell_type": "code",
   "execution_count": 12,
   "metadata": {},
   "outputs": [
    {
     "data": {
      "text/plain": [
       "'\\n<|system|>\\nAnswer the question based on your knowledge. Use the following context to help:\\n\\n\\n\\n</s>\\n<|user|>\\nWhat is Spring?\\n</s>\\n<|assistant|>\\n\\n  Spring refers to the season that comes after winter and before summer, characterized by warmer temperatures, longer days, and new growth in nature. In a broader sense, Spring also refers to a software development framework called Spring Framework, which provides a comprehensive programming and configuration model for developing Java applications. This framework aims to simplify the process of building complex enterprise-level applications by providing features such as dependency injection, aspect-oriented programming (AOP), and support for data access technologies like JDBC and Hibernate.'"
      ]
     },
     "execution_count": 12,
     "metadata": {},
     "output_type": "execute_result"
    }
   ],
   "source": [
    "question = \"What is Spring?\"\n",
    "llm_chain.invoke({\"context\": \"\", \"question\": question})"
   ]
  },
  {
   "cell_type": "code",
   "execution_count": 13,
   "metadata": {},
   "outputs": [
    {
     "data": {
      "text/plain": [
       "'\\n<|system|>\\nAnswer the question based on your knowledge. Use the following context to help:\\n\\n[Document(metadata={\\'source\\': \\'vibration\\\\\\\\Vibration Theory.pdf\\', \\'file_path\\': \\'vibration\\\\\\\\Vibration Theory.pdf\\', \\'page\\': 0, \\'total_pages\\': 32, \\'format\\': \\'PDF 1.4\\', \\'title\\': \\'8434_Harris_02_b.qxd\\', \\'author\\': \\'Prepress 1\\', \\'subject\\': \\'\\', \\'keywords\\': \\'\\', \\'creator\\': \\'QuarkXPressª 4.11: PSPrinter 8.3.1\\', \\'producer\\': \\'Acrobat Distiller 4.05 for Macintosh\\', \\'creationDate\\': \\'D:20010920123819Z\\', \\'modDate\\': \"D:20050202111026-05\\'00\\'\", \\'trapped\\': \\'\\'}, page_content=\\'to the force acting along its length:\\\\nF = k(x −u)\\\\n(2.1)\\\\nThe ideal spring is considered to have no mass;\\\\nthus, the force acting on one end is equal and\\\\n2.1\\\\nFIGURE 2.1\\\\nLinear spring.\\'), Document(metadata={\\'source\\': \\'vibration\\\\\\\\Vibration Theory.pdf\\', \\'file_path\\': \\'vibration\\\\\\\\Vibration Theory.pdf\\', \\'page\\': 0, \\'total_pages\\': 32, \\'format\\': \\'PDF 1.4\\', \\'title\\': \\'8434_Harris_02_b.qxd\\', \\'author\\': \\'Prepress 1\\', \\'subject\\': \\'\\', \\'keywords\\': \\'\\', \\'creator\\': \\'QuarkXPressª 4.11: PSPrinter 8.3.1\\', \\'producer\\': \\'Acrobat Distiller 4.05 for Macintosh\\', \\'creationDate\\': \\'D:20010920123819Z\\', \\'modDate\\': \"D:20050202111026-05\\'00\\'\", \\'trapped\\': \\'\\'}, page_content=\\'both kinetic and potential energy, and may dissipate energy, this chapter considers\\\\nonly lumped parameter systems composed of ideal springs, masses, and dampers\\\\nwherein each element has only a single function. In translational motion, displace-\\\\nments are defined as linear distances; in rotational motion, displacements are\\\\ndefined as angular motions.\\\\nTRANSLATIONAL MOTION\\\\nSpring.\\\\nIn the linear spring shown in Fig. 2.1, the\\\\nchange in the length of the spring is proportional\\'), Document(metadata={\\'source\\': \\'vibration\\\\\\\\Vibration Theory.pdf\\', \\'file_path\\': \\'vibration\\\\\\\\Vibration Theory.pdf\\', \\'page\\': 0, \\'total_pages\\': 32, \\'format\\': \\'PDF 1.4\\', \\'title\\': \\'8434_Harris_02_b.qxd\\', \\'author\\': \\'Prepress 1\\', \\'subject\\': \\'\\', \\'keywords\\': \\'\\', \\'creator\\': \\'QuarkXPressª 4.11: PSPrinter 8.3.1\\', \\'producer\\': \\'Acrobat Distiller 4.05 for Macintosh\\', \\'creationDate\\': \\'D:20010920123819Z\\', \\'modDate\\': \"D:20050202111026-05\\'00\\'\", \\'trapped\\': \\'\\'}, page_content=\\'Vibratory systems comprise means for storing potential energy (spring), means for\\\\nstoring kinetic energy (mass or inertia), and means by which the energy is gradually\\\\nlost (damper). The vibration of a system involves the alternating transfer of energy\\\\nbetween its potential and kinetic forms. In a damped system, some energy is dissi-\\\\npated at each cycle of vibration and must be replaced from an external source if a\\\\nsteady vibration is to be maintained.Although a single physical structure may store\\'), Document(metadata={\\'source\\': \\'vibration\\\\\\\\Vibration Theory.pdf\\', \\'file_path\\': \\'vibration\\\\\\\\Vibration Theory.pdf\\', \\'page\\': 19, \\'total_pages\\': 32, \\'format\\': \\'PDF 1.4\\', \\'title\\': \\'8434_Harris_02_b.qxd\\', \\'author\\': \\'Prepress 1\\', \\'subject\\': \\'\\', \\'keywords\\': \\'\\', \\'creator\\': \\'QuarkXPressª 4.11: PSPrinter 8.3.1\\', \\'producer\\': \\'Acrobat Distiller 4.05 for Macintosh\\', \\'creationDate\\': \\'D:20010920123819Z\\', \\'modDate\\': \"D:20050202111026-05\\'00\\'\", \\'trapped\\': \\'\\'}, page_content=\\'STIFFNESS COEFFICIENTS\\\\nThe spring system of a structure of N degrees-of-freedom can be defined completely\\\\nby a set of N 2 stiffness coefficients. A stiffness coefficient Kjk is the change in spring\\\\nforce acting on the jth degree-of-freedom when only the kth degree-of-freedom is\\\\nslowly displaced a unit amount in the negative direction.This definition is a general-\\\\nization of the linear,elastic spring defined by Eq.(2.1).Stiffness coefficients have the\\')]\\n\\n</s>\\n<|user|>\\nWhat is Spring?\\n</s>\\n<|assistant|>\\n\\n  In mechanical engineering, a spring is a device that stores mechanical energy elastically, usually by deforming from its resting state under tension, compression, or shear. It returns a significant portion of that energy upon release, making it useful in many applications such as in clockwork mechanisms, automobile suspension systems, trampolines, and mattresses. In physics, a spring is often modeled mathematically using Hooke\\'s law, which describes the relationship between the force applied to the spring and the resulting deformation. This concept is also used in other fields such as electrical engineering, where it is used to describe the behavior of certain types of capacitors and transducers. Overall, springs play a crucial role in many mechanical and physical systems due to their ability to store and release energy efficiently.'"
      ]
     },
     "execution_count": 13,
     "metadata": {},
     "output_type": "execute_result"
    }
   ],
   "source": [
    "rag_chain.invoke(question)"
   ]
  },
  {
   "cell_type": "code",
   "execution_count": 14,
   "metadata": {},
   "outputs": [
    {
     "data": {
      "text/plain": [
       "'\\n<|system|>\\nAnswer the question based on your knowledge. Use the following context to help:\\n\\n[Document(metadata={\\'source\\': \\'vibration\\\\\\\\Vibration Theory.pdf\\', \\'file_path\\': \\'vibration\\\\\\\\Vibration Theory.pdf\\', \\'page\\': 2, \\'total_pages\\': 32, \\'format\\': \\'PDF 1.4\\', \\'title\\': \\'8434_Harris_02_b.qxd\\', \\'author\\': \\'Prepress 1\\', \\'subject\\': \\'\\', \\'keywords\\': \\'\\', \\'creator\\': \\'QuarkXPressª 4.11: PSPrinter 8.3.1\\', \\'producer\\': \\'Acrobat Distiller 4.05 for Macintosh\\', \\'creationDate\\': \\'D:20010920123819Z\\', \\'modDate\\': \"D:20050202111026-05\\'00\\'\", \\'trapped\\': \\'\\'}, page_content=\\'Inasmuch as the mathematical equations for a rotational system can be written by\\\\nanalogy from the equations for a translational system, only the latter are discussed in\\\\ndetail.Whenever translational systems are discussed,it is understood that correspond-\\\\ning equations apply to the analogous rotational system, as indicated in Table 2.1.\\\\nSINGLE DEGREE-OF-FREEDOM SYSTEM\\\\nThe simplest possible vibratory system is shown in Fig. 2.4; it consists of a mass m\\'), Document(metadata={\\'source\\': \\'vibration\\\\\\\\Vibration Theory.pdf\\', \\'file_path\\': \\'vibration\\\\\\\\Vibration Theory.pdf\\', \\'page\\': 1, \\'total_pages\\': 32, \\'format\\': \\'PDF 1.4\\', \\'title\\': \\'8434_Harris_02_b.qxd\\', \\'author\\': \\'Prepress 1\\', \\'subject\\': \\'\\', \\'keywords\\': \\'\\', \\'creator\\': \\'QuarkXPressª 4.11: PSPrinter 8.3.1\\', \\'producer\\': \\'Acrobat Distiller 4.05 for Macintosh\\', \\'creationDate\\': \\'D:20010920123819Z\\', \\'modDate\\': \"D:20050202111026-05\\'00\\'\", \\'trapped\\': \\'\\'}, page_content=\\'The property of a rotational system which stores kinetic energy is inertia; stiffness\\\\nand damping coefficients are defined with reference to angular displacement and\\\\nangular velocity, respectively. The analogous quantities and equations are listed in\\\\nTable 2.1.\\\\n2.2\\\\nCHAPTER TWO\\\\nTABLE 2.1\\\\nAnalogous Quantities in Translational \\\\nand Rotational Vibrating Systems\\\\nTranslational quantity\\\\nRotational quantity\\\\nLinear displacement x\\\\nAngular displacement α\\\\nForce F\\\\nTorque M\\\\nSpring constant k\\\\nSpring constant kr\\'), Document(metadata={\\'source\\': \\'vibration\\\\\\\\Vibration Theory.pdf\\', \\'file_path\\': \\'vibration\\\\\\\\Vibration Theory.pdf\\', \\'page\\': 16, \\'total_pages\\': 32, \\'format\\': \\'PDF 1.4\\', \\'title\\': \\'8434_Harris_02_b.qxd\\', \\'author\\': \\'Prepress 1\\', \\'subject\\': \\'\\', \\'keywords\\': \\'\\', \\'creator\\': \\'QuarkXPressª 4.11: PSPrinter 8.3.1\\', \\'producer\\': \\'Acrobat Distiller 4.05 for Macintosh\\', \\'creationDate\\': \\'D:20010920123819Z\\', \\'modDate\\': \"D:20050202111026-05\\'00\\'\", \\'trapped\\': \\'\\'}, page_content=\\'mass m may be expressed in any consis-\\\\ntent units, such as displacement, velocity,\\\\nor acceleration, and the same expression\\\\nfor T applies in each case.\\\\nVibration Due to a Rotating Eccentric\\\\nWeight.\\\\nIn the mass-spring-damper\\\\nsystem shown in Fig. 2.21, a mass mu is\\\\nmounted by a shaft and bearings to the\\\\nmass m. The mass mu follows a circular\\\\npath of radius e with respect to the bear-\\\\nings. The component of displacement in\\\\nthe X direction of mu relative to m is\\\\nx3 −x1 = e sin ωt\\\\n(2.47)\\'), Document(metadata={\\'source\\': \\'vibration\\\\\\\\Vibration Theory.pdf\\', \\'file_path\\': \\'vibration\\\\\\\\Vibration Theory.pdf\\', \\'page\\': 18, \\'total_pages\\': 32, \\'format\\': \\'PDF 1.4\\', \\'title\\': \\'8434_Harris_02_b.qxd\\', \\'author\\': \\'Prepress 1\\', \\'subject\\': \\'\\', \\'keywords\\': \\'\\', \\'creator\\': \\'QuarkXPressª 4.11: PSPrinter 8.3.1\\', \\'producer\\': \\'Acrobat Distiller 4.05 for Macintosh\\', \\'creationDate\\': \\'D:20010920123819Z\\', \\'modDate\\': \"D:20050202111026-05\\'00\\'\", \\'trapped\\': \\'\\'}, page_content=\\'considered to be point masses or particles having no rotational inertia. If a group of\\\\nparticles is bound together by essentially rigid connections, it behaves as a rigid body\\\\nhaving both mass (significant for translational motion) and moment of inertia (sig-\\\\nnificant for rotational motion). There is no limit to the number of masses that may\\\\nbe used to represent a system. For example, each mass in a model representing a\\\\nbeam may be an infinitely thin slice representing a cross section of the beam; a dif-\\')]\\n\\n</s>\\n<|user|>\\nWhat is the rotational quantity corresponding to mass?\\n</s>\\n<|assistant|>\\n\\n  The rotational quantity corresponding to mass in a vibrating system is moment of inertia. While mass represents the amount of material in a translational system, moment of inertia represents the resistance of a body to changes in its rotational motion around a fixed axis. It is a measure of how much force is needed to accelerate a rotating object. In other words, just as mass determines how difficult it is to move a translating object, moment of inertia determines how difficult it is to rotate an object.'"
      ]
     },
     "execution_count": 14,
     "metadata": {},
     "output_type": "execute_result"
    }
   ],
   "source": [
    "rag_chain.invoke(\"What is the rotational quantity corresponding to mass?\")"
   ]
  },
  {
   "cell_type": "code",
   "execution_count": 3,
   "metadata": {},
   "outputs": [
    {
     "data": {
      "text/plain": [
       "'2.4.0+cu118'"
      ]
     },
     "execution_count": 3,
     "metadata": {},
     "output_type": "execute_result"
    }
   ],
   "source": [
    "import torch\n",
    "torch.__version__"
   ]
  },
  {
   "cell_type": "code",
   "execution_count": 4,
   "metadata": {},
   "outputs": [
    {
     "data": {
      "text/plain": [
       "True"
      ]
     },
     "execution_count": 4,
     "metadata": {},
     "output_type": "execute_result"
    }
   ],
   "source": [
    "torch.cuda.is_available()"
   ]
  },
  {
   "cell_type": "code",
   "execution_count": null,
   "metadata": {},
   "outputs": [],
   "source": []
  }
 ],
 "metadata": {
  "kernelspec": {
   "display_name": "venv",
   "language": "python",
   "name": "python3"
  },
  "language_info": {
   "codemirror_mode": {
    "name": "ipython",
    "version": 3
   },
   "file_extension": ".py",
   "mimetype": "text/x-python",
   "name": "python",
   "nbconvert_exporter": "python",
   "pygments_lexer": "ipython3",
   "version": "3.9.1"
  }
 },
 "nbformat": 4,
 "nbformat_minor": 2
}
